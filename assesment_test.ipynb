{
 "cells": [
  {
   "cell_type": "code",
   "execution_count": 1,
   "metadata": {},
   "outputs": [],
   "source": [
    "st = 'Print only the words that start with s in this sentence'"
   ]
  },
  {
   "cell_type": "code",
   "execution_count": 9,
   "metadata": {},
   "outputs": [],
   "source": [
    "List = st.split()"
   ]
  },
  {
   "cell_type": "code",
   "execution_count": 10,
   "metadata": {},
   "outputs": [
    {
     "data": {
      "text/plain": [
       "['Print',\n",
       " 'only',\n",
       " 'the',\n",
       " 'words',\n",
       " 'that',\n",
       " 'start',\n",
       " 'with',\n",
       " 's',\n",
       " 'in',\n",
       " 'this',\n",
       " 'sentence']"
      ]
     },
     "execution_count": 10,
     "metadata": {},
     "output_type": "execute_result"
    }
   ],
   "source": [
    "List"
   ]
  },
  {
   "cell_type": "code",
   "execution_count": 13,
   "metadata": {},
   "outputs": [
    {
     "ename": "AttributeError",
     "evalue": "'dict' object has no attribute 'format'",
     "output_type": "error",
     "traceback": [
      "\u001b[0;31m---------------------------------------------------------------------------\u001b[0m",
      "\u001b[0;31mAttributeError\u001b[0m                            Traceback (most recent call last)",
      "\u001b[0;32m<ipython-input-13-9ae079520e79>\u001b[0m in \u001b[0;36m<module>\u001b[0;34m\u001b[0m\n\u001b[1;32m      1\u001b[0m \u001b[0;32mfor\u001b[0m \u001b[0mletter\u001b[0m \u001b[0;32min\u001b[0m \u001b[0mList\u001b[0m\u001b[0;34m:\u001b[0m\u001b[0;34m\u001b[0m\u001b[0;34m\u001b[0m\u001b[0m\n\u001b[0;32m----> 2\u001b[0;31m     \u001b[0mprint\u001b[0m\u001b[0;34m(\u001b[0m\u001b[0;34m{\u001b[0m\u001b[0;34m}\u001b[0m\u001b[0;34m.\u001b[0m\u001b[0mformat\u001b[0m\u001b[0;34m(\u001b[0m\u001b[0mletter\u001b[0m\u001b[0;34m)\u001b[0m\u001b[0;34m)\u001b[0m\u001b[0;34m\u001b[0m\u001b[0;34m\u001b[0m\u001b[0m\n\u001b[0m",
      "\u001b[0;31mAttributeError\u001b[0m: 'dict' object has no attribute 'format'"
     ]
    }
   ],
   "source": [
    "for letter in List:\n",
    "    print({}.format(letter))"
   ]
  },
  {
   "cell_type": "code",
   "execution_count": 14,
   "metadata": {},
   "outputs": [],
   "source": [
    "from random import shuffle"
   ]
  },
  {
   "cell_type": "code",
   "execution_count": 15,
   "metadata": {},
   "outputs": [
    {
     "ename": "AttributeError",
     "evalue": "'dict' object has no attribute 'format'",
     "output_type": "error",
     "traceback": [
      "\u001b[0;31m---------------------------------------------------------------------------\u001b[0m",
      "\u001b[0;31mAttributeError\u001b[0m                            Traceback (most recent call last)",
      "\u001b[0;32m<ipython-input-15-9ae079520e79>\u001b[0m in \u001b[0;36m<module>\u001b[0;34m\u001b[0m\n\u001b[1;32m      1\u001b[0m \u001b[0;32mfor\u001b[0m \u001b[0mletter\u001b[0m \u001b[0;32min\u001b[0m \u001b[0mList\u001b[0m\u001b[0;34m:\u001b[0m\u001b[0;34m\u001b[0m\u001b[0;34m\u001b[0m\u001b[0m\n\u001b[0;32m----> 2\u001b[0;31m     \u001b[0mprint\u001b[0m\u001b[0;34m(\u001b[0m\u001b[0;34m{\u001b[0m\u001b[0;34m}\u001b[0m\u001b[0;34m.\u001b[0m\u001b[0mformat\u001b[0m\u001b[0;34m(\u001b[0m\u001b[0mletter\u001b[0m\u001b[0;34m)\u001b[0m\u001b[0;34m)\u001b[0m\u001b[0;34m\u001b[0m\u001b[0;34m\u001b[0m\u001b[0m\n\u001b[0m",
      "\u001b[0;31mAttributeError\u001b[0m: 'dict' object has no attribute 'format'"
     ]
    }
   ],
   "source": [
    "for letter in List:\n",
    "    print({}.format(letter))"
   ]
  },
  {
   "cell_type": "code",
   "execution_count": 16,
   "metadata": {},
   "outputs": [
    {
     "name": "stdout",
     "output_type": "stream",
     "text": [
      "start\n",
      "s\n",
      "sentence\n"
     ]
    }
   ],
   "source": [
    "for s in List:\n",
    "    if s.startswith('s'):\n",
    "        print(s)"
   ]
  },
  {
   "cell_type": "code",
   "execution_count": 17,
   "metadata": {},
   "outputs": [],
   "source": [
    "# Check for even numbers in a range\n",
    "lst = [x for x in range(11) if x % 2 == 0]"
   ]
  },
  {
   "cell_type": "code",
   "execution_count": 18,
   "metadata": {},
   "outputs": [
    {
     "data": {
      "text/plain": [
       "[0, 2, 4, 6, 8, 10]"
      ]
     },
     "execution_count": 18,
     "metadata": {},
     "output_type": "execute_result"
    }
   ],
   "source": [
    "lst"
   ]
  },
  {
   "cell_type": "code",
   "execution_count": 19,
   "metadata": {},
   "outputs": [
    {
     "data": {
      "text/plain": [
       "[3, 6, 9, 12, 15, 18, 21, 24, 27, 30, 33, 36, 39, 42, 45, 48]"
      ]
     },
     "execution_count": 19,
     "metadata": {},
     "output_type": "execute_result"
    }
   ],
   "source": [
    "# Check for even numbers in a range\n",
    "lst2 = [x for x in range(1,50) if x % 3 == 0]\n",
    "lst2"
   ]
  },
  {
   "cell_type": "code",
   "execution_count": 20,
   "metadata": {},
   "outputs": [],
   "source": [
    "#Go through the string below and if the length of a word is even print \"even!\"\n",
    "st = 'Print every word in this sentence that has an even number of letters'"
   ]
  },
  {
   "cell_type": "code",
   "execution_count": 31,
   "metadata": {},
   "outputs": [
    {
     "name": "stdout",
     "output_type": "stream",
     "text": [
      "word\n",
      "in\n",
      "this\n",
      "sentence\n",
      "that\n",
      "an\n",
      "even\n",
      "number\n",
      "of\n"
     ]
    }
   ],
   "source": [
    "list3 = st.split()\n",
    "# iterate in words of string  \n",
    "for word in list3:  \n",
    "          \n",
    "        # if length is even  \n",
    "        if len(word)%2==0: \n",
    "            print(word)  "
   ]
  },
  {
   "cell_type": "code",
   "execution_count": 9,
   "metadata": {},
   "outputs": [
    {
     "name": "stdout",
     "output_type": "stream",
     "text": [
      "x is currently:  1\n",
      "x is currently:  2\n",
      "Fizz 3\n",
      "x is currently:  4\n",
      "Buzz 5\n",
      "Fizz 6\n",
      "x is currently:  7\n",
      "x is currently:  8\n",
      "Fizz 9\n",
      "Buzz 10\n",
      "x is currently:  11\n",
      "Fizz 12\n",
      "x is currently:  13\n",
      "x is currently:  14\n",
      "FizzBuzz 15\n",
      "x is currently:  16\n",
      "x is currently:  17\n",
      "Fizz 18\n",
      "x is currently:  19\n",
      "Buzz 20\n",
      "Fizz 21\n",
      "x is currently:  22\n",
      "x is currently:  23\n",
      "Fizz 24\n",
      "Buzz 25\n",
      "x is currently:  26\n",
      "Fizz 27\n",
      "x is currently:  28\n",
      "x is currently:  29\n",
      "FizzBuzz 30\n",
      "x is currently:  31\n",
      "x is currently:  32\n",
      "Fizz 33\n",
      "x is currently:  34\n",
      "Buzz 35\n",
      "Fizz 36\n",
      "x is currently:  37\n",
      "x is currently:  38\n",
      "Fizz 39\n",
      "Buzz 40\n",
      "x is currently:  41\n",
      "Fizz 42\n",
      "x is currently:  43\n",
      "x is currently:  44\n",
      "FizzBuzz 45\n",
      "x is currently:  46\n",
      "x is currently:  47\n",
      "Fizz 48\n",
      "x is currently:  49\n",
      "Buzz 50\n",
      "Fizz 51\n",
      "x is currently:  52\n",
      "x is currently:  53\n",
      "Fizz 54\n",
      "Buzz 55\n",
      "x is currently:  56\n",
      "Fizz 57\n",
      "x is currently:  58\n",
      "x is currently:  59\n",
      "FizzBuzz 60\n",
      "x is currently:  61\n",
      "x is currently:  62\n",
      "Fizz 63\n",
      "x is currently:  64\n",
      "Buzz 65\n",
      "Fizz 66\n",
      "x is currently:  67\n",
      "x is currently:  68\n",
      "Fizz 69\n",
      "Buzz 70\n",
      "x is currently:  71\n",
      "Fizz 72\n",
      "x is currently:  73\n",
      "x is currently:  74\n",
      "FizzBuzz 75\n",
      "x is currently:  76\n",
      "x is currently:  77\n",
      "Fizz 78\n",
      "x is currently:  79\n",
      "Buzz 80\n",
      "Fizz 81\n",
      "x is currently:  82\n",
      "x is currently:  83\n",
      "Fizz 84\n",
      "Buzz 85\n",
      "x is currently:  86\n",
      "Fizz 87\n",
      "x is currently:  88\n",
      "x is currently:  89\n",
      "FizzBuzz 90\n",
      "x is currently:  91\n",
      "x is currently:  92\n",
      "Fizz 93\n",
      "x is currently:  94\n",
      "Buzz 95\n",
      "Fizz 96\n",
      "x is currently:  97\n",
      "x is currently:  98\n",
      "Fizz 99\n",
      "Buzz 100\n"
     ]
    }
   ],
   "source": [
    "#Write a program that prints the integers from 1 to 100. But for multiples of three \n",
    "#print \"Fizz\" instead of the number, and for the multiples of five print \"Buzz\". \n",
    "#For numbers which are multiples of both three and five print \"FizzBuzz\".\n",
    "x = 0\n",
    "\n",
    "while x < 100:\n",
    "    x+=1\n",
    "    if x%3==0 and x%5==0:\n",
    "        print('FizzBuzz',x)\n",
    "        continue\n",
    "    if x%3==0:\n",
    "        print('Fizz',x)\n",
    "        continue\n",
    "    if x%5==0:\n",
    "        print('Buzz',x)\n",
    "        continue\n",
    "    else:\n",
    "        print('x is currently: ',x)\n",
    "        continue"
   ]
  },
  {
   "cell_type": "code",
   "execution_count": 10,
   "metadata": {},
   "outputs": [],
   "source": [
    "#Use List Comprehension to create a list of the first letters of every word \n",
    "#in the string below:\n",
    "st = 'Create a list of the first letters of every word in this string'"
   ]
  },
  {
   "cell_type": "code",
   "execution_count": 38,
   "metadata": {},
   "outputs": [
    {
     "name": "stdout",
     "output_type": "stream",
     "text": [
      "['C', 'a', 'l', 'o', 't', 'f', 'l', 'o', 'e', 'w', 'i', 't', 's']\n"
     ]
    }
   ],
   "source": [
    "list4 = st.split()\n",
    "first_char_list = []\n",
    "# iterate in words of string  \n",
    "for word in list4:  \n",
    "        first_char_list.append(word[0])\n",
    "print(first_char_list)"
   ]
  },
  {
   "cell_type": "code",
   "execution_count": 34,
   "metadata": {},
   "outputs": [
    {
     "data": {
      "text/plain": [
       "['C', 'a', 'l', 'o', 't', 'f', 'l', 'o', 'e', 'w', 'i', 't', 's']"
      ]
     },
     "execution_count": 34,
     "metadata": {},
     "output_type": "execute_result"
    }
   ],
   "source": [
    "st = 'Create a list of the first letters of every word in this string'\n",
    "newlist=[word[0] for word in st.split()]\n",
    "newlist"
   ]
  },
  {
   "cell_type": "code",
   "execution_count": null,
   "metadata": {},
   "outputs": [],
   "source": []
  }
 ],
 "metadata": {
  "kernelspec": {
   "display_name": "Python 3",
   "language": "python",
   "name": "python3"
  },
  "language_info": {
   "codemirror_mode": {
    "name": "ipython",
    "version": 3
   },
   "file_extension": ".py",
   "mimetype": "text/x-python",
   "name": "python",
   "nbconvert_exporter": "python",
   "pygments_lexer": "ipython3",
   "version": "3.8.5"
  }
 },
 "nbformat": 4,
 "nbformat_minor": 4
}
